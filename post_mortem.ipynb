{
 "cells": [
  {
   "cell_type": "markdown",
   "metadata": {},
   "source": [
    "# Gazprom Neft SmartOil Contest\n",
    "## Описание инсайтов команды \"Шоколадные Бурильщики\"\n",
    "\n",
    "Здесь собраны наши лучшие идеи по первой части соревнований https://boosters.pro/gazprom_smartoil_contest\n",
    "\n",
    "Мы надеемся, что данное описание поможет кому-нибудь занять призовое место.\n",
    "Этот ноутбук создан в лучших традициях kaggle с целью поделиться опытом и принести пользу сообществу.\n",
    "\n",
    "Соревнование было интересно тем, что дает возможность попробовать свои силы с маленькими промышленными данными.\n",
    "\n",
    "По результатам финальных сабмитов наша команда заняла 12 и 17 места соответственно. \n",
    "Однако, среди не выбраных для финала сабмитов были решения тянувшие в первой задаче на 6 место по приватному лидерборду.\n",
    "\n",
    "Наши ники в ODS @11245 @bortnikov @aljutor для вопросов."
   ]
  },
  {
   "cell_type": "markdown",
   "metadata": {},
   "source": [
    "Чтобы было проще показать некоторые размышления подгрузим и предобработаем данные."
   ]
  },
  {
   "cell_type": "code",
   "execution_count": 63,
   "metadata": {},
   "outputs": [],
   "source": [
    "import pandas as pd\n",
    "import numpy as np\n",
    "%matplotlib inline\n",
    "\n",
    "train = pd.read_csv('input/task1_data/train_1.8.csv')\n",
    "train_2 = pd.read_csv('input/task2_data/train_2.7.csv')"
   ]
  },
  {
   "cell_type": "code",
   "execution_count": 64,
   "metadata": {},
   "outputs": [
    {
     "data": {
      "text/plain": [
       "0    0.925415\n",
       "1    1.492694\n",
       "2    1.406989\n",
       "3    1.210954\n",
       "4    1.057944\n",
       "Name: target, dtype: float64"
      ]
     },
     "execution_count": 64,
     "metadata": {},
     "output_type": "execute_result"
    }
   ],
   "source": [
    "for col in ['Нефтьт', 'Дебит попутного газам3/сут']:\n",
    "    train[col] = train[col].str.replace(',', '.').astype(float)\n",
    "    train_2[col] = train_2[col].str.replace(',', '.').astype(float)\n",
    "\n",
    "\n",
    "train['target'] = train['Нефтьт'] / train['Время работыч']\n",
    "train_2['target'] = train_2['Нефтьт'] / train_2['Время работыч']\n"
   ]
  },
  {
   "cell_type": "markdown",
   "metadata": {},
   "source": [
    "### Baseline"
   ]
  },
  {
   "cell_type": "markdown",
   "metadata": {},
   "source": [
    "Первое, на что намекает использованная в соревнованиях метрика качества MAE - это посчитать средние значения дебита нефти по месяцам и отправить сабмит на проверку. Это давало лучший результат по сравнению с предсказанием самой целевой переменной \"Нефть,т\"."
   ]
  },
  {
   "cell_type": "markdown",
   "metadata": {},
   "source": [
    "Если посмотреть на колонку \"Время работы,ч\", то станет ясно, что все скважины в месяце работали разное время. Отсюда, следует вывод, что будет не правильно предсказывать значение \"Нефть,т\", нужно найти производительность скважины в час и использовать это в качестве целевой переменной. \n"
   ]
  },
  {
   "cell_type": "code",
   "execution_count": 39,
   "metadata": {},
   "outputs": [
    {
     "data": {
      "text/plain": [
       "0    301.0\n",
       "1    720.0\n",
       "2    744.0\n",
       "3    744.0\n",
       "4    720.0\n",
       "Name: Время работыч, dtype: float64"
      ]
     },
     "execution_count": 39,
     "metadata": {},
     "output_type": "execute_result"
    }
   ],
   "source": [
    "train['Время работыч'].head()"
   ]
  },
  {
   "cell_type": "code",
   "execution_count": 65,
   "metadata": {},
   "outputs": [
    {
     "data": {
      "text/plain": [
       "0    0.925415\n",
       "1    1.492694\n",
       "2    1.406989\n",
       "3    1.210954\n",
       "4    1.057944\n",
       "Name: target, dtype: float64"
      ]
     },
     "execution_count": 65,
     "metadata": {},
     "output_type": "execute_result"
    }
   ],
   "source": [
    "train['target'].head()"
   ]
  },
  {
   "cell_type": "markdown",
   "metadata": {},
   "source": [
    "Если сложить воедино два предыдущих пункта, то логичным выглядит предсказывать не производительность скважины в единицу времени, а отклонение этой производительности от среднего.\n",
    "Это хорошо, потому что тогда мы можем отдельным коэффициентом регулировать вклад модели в итогове предсказание.\n",
    "По крайней мере на публичной части лидерборда это работало. =) Привет переобучение. Но можно ползти по лидерборду вверх и нервировать коллег по цеху.\n",
    "\n",
    "Итого:\n",
    "\n",
    "предсказание в месяце n = среднее значение в месяце n + поправочный коэффициент * предсказание модели тонн / час * количество часов в месяце"
   ]
  },
  {
   "cell_type": "markdown",
   "metadata": {},
   "source": [
    "### Валидация\n",
    "\n",
    "Наличие в тестовой выборке лишь одного месяца наталкивает на стратегию построения обучающей выборки, при которой:\n",
    "1. Для первой задачи необходимо брать первый месяц для признаков. \n",
    "2. Для второй задачи необходимо взять первые 7 точек. Использовать значения признаков 1 месяца на следующие 6. Это исходит из потребности организаторов предсказывать результат после месяца проведения ГРП.\n",
    "3. Так как разработка месторождения происходит кустовым способом. То логично разделить кусты в тренировочных и валидационных выборках. Но признак куста у нас в большинстве случаев не заполнен, поэтому нужен другой универсальный способ. Мы можем воспользоваться временем и использовать TimeSeriesSplit(n_splits = 5), так чтобы скважины в кустах не перемешивались. И скважины из будущего не влияли на скважины в прошлом."
   ]
  },
  {
   "cell_type": "markdown",
   "metadata": {},
   "source": [
    "Так как для решения второй задачи были доступны довольно длительные временные промежутки, то выглядит хорошей идеей сформировать большую обучающую выборку за счет поиска пиков, потенциально соответсвующих месяцам проведения ГРП."
   ]
  },
  {
   "cell_type": "code",
   "execution_count": 74,
   "metadata": {},
   "outputs": [
    {
     "data": {
      "text/plain": [
       "<matplotlib.axes._subplots.AxesSubplot at 0x7f014965dd68>"
      ]
     },
     "execution_count": 74,
     "metadata": {},
     "output_type": "execute_result"
    },
    {
     "data": {
      "image/png": "[encoded data removed]",
      "text/plain": [
       "<Figure size 432x288 with 1 Axes>"
      ]
     },
     "metadata": {
      "needs_background": "light"
     },
     "output_type": "display_data"
    }
   ],
   "source": [
    "train_2[train_2['Скважина'] == '3bc5b6961aa997a89db8e760f1d304b2']['target'].plot()"
   ]
  },
  {
   "cell_type": "markdown",
   "metadata": {},
   "source": [
    "### Очистка данных"
   ]
  },
  {
   "cell_type": "markdown",
   "metadata": {},
   "source": [
    "Для чистки данных применяли только удаление тех скважин, по которым отсутсвует значение в колонке \"Нефть,т\". Можно считать такой способ не совсем полным, потенциально мы могли терять некоторые примеры из обучающей выборки."
   ]
  },
  {
   "cell_type": "markdown",
   "metadata": {},
   "source": [
    "### Дополнительные признаки"
   ]
  },
  {
   "cell_type": "markdown",
   "metadata": {},
   "source": [
    "Хорошо себя показал признак плотность нефти. Однако, для тренировочной выборки его нужно было посчитать самостоятельно, а для тестовой он присуствовал почти полностью и без пропусков.\n"
   ]
  },
  {
   "cell_type": "code",
   "execution_count": 75,
   "metadata": {},
   "outputs": [
    {
     "data": {
      "text/html": [
       "<div>\n",
       "<style scoped>\n",
       "    .dataframe tbody tr th:only-of-type {\n",
       "        vertical-align: middle;\n",
       "    }\n",
       "\n",
       "    .dataframe tbody tr th {\n",
       "        vertical-align: top;\n",
       "    }\n",
       "\n",
       "    .dataframe thead th {\n",
       "        text-align: right;\n",
       "    }\n",
       "</style>\n",
       "<table border=\"1\" class=\"dataframe\">\n",
       "  <thead>\n",
       "    <tr style=\"text-align: right;\">\n",
       "      <th></th>\n",
       "      <th>Плотность нефти</th>\n",
       "      <th>Нефтьм3</th>\n",
       "      <th>Нефтьт</th>\n",
       "    </tr>\n",
       "  </thead>\n",
       "  <tbody>\n",
       "    <tr>\n",
       "      <th>0</th>\n",
       "      <td>NaN</td>\n",
       "      <td>320,17</td>\n",
       "      <td>278.55</td>\n",
       "    </tr>\n",
       "    <tr>\n",
       "      <th>1</th>\n",
       "      <td>0.87</td>\n",
       "      <td>1235,33</td>\n",
       "      <td>1074.74</td>\n",
       "    </tr>\n",
       "    <tr>\n",
       "      <th>2</th>\n",
       "      <td>0.87</td>\n",
       "      <td>1203,22</td>\n",
       "      <td>1046.80</td>\n",
       "    </tr>\n",
       "    <tr>\n",
       "      <th>3</th>\n",
       "      <td>0.87</td>\n",
       "      <td>1035,57</td>\n",
       "      <td>900.95</td>\n",
       "    </tr>\n",
       "    <tr>\n",
       "      <th>4</th>\n",
       "      <td>0.87</td>\n",
       "      <td>875,54</td>\n",
       "      <td>761.72</td>\n",
       "    </tr>\n",
       "    <tr>\n",
       "      <th>5</th>\n",
       "      <td>0.87</td>\n",
       "      <td>749,32</td>\n",
       "      <td>651.91</td>\n",
       "    </tr>\n",
       "    <tr>\n",
       "      <th>12</th>\n",
       "      <td>NaN</td>\n",
       "      <td>0,00</td>\n",
       "      <td>0.00</td>\n",
       "    </tr>\n",
       "    <tr>\n",
       "      <th>13</th>\n",
       "      <td>NaN</td>\n",
       "      <td>760,01</td>\n",
       "      <td>661.20</td>\n",
       "    </tr>\n",
       "    <tr>\n",
       "      <th>14</th>\n",
       "      <td>0.87</td>\n",
       "      <td>1752,88</td>\n",
       "      <td>1525.00</td>\n",
       "    </tr>\n",
       "    <tr>\n",
       "      <th>15</th>\n",
       "      <td>0.87</td>\n",
       "      <td>2695,58</td>\n",
       "      <td>2345.15</td>\n",
       "    </tr>\n",
       "  </tbody>\n",
       "</table>\n",
       "</div>"
      ],
      "text/plain": [
       "    Плотность нефти  Нефтьм3   Нефтьт\n",
       "0               NaN   320,17   278.55\n",
       "1              0.87  1235,33  1074.74\n",
       "2              0.87  1203,22  1046.80\n",
       "3              0.87  1035,57   900.95\n",
       "4              0.87   875,54   761.72\n",
       "5              0.87   749,32   651.91\n",
       "12              NaN     0,00     0.00\n",
       "13              NaN   760,01   661.20\n",
       "14             0.87  1752,88  1525.00\n",
       "15             0.87  2695,58  2345.15"
      ]
     },
     "execution_count": 75,
     "metadata": {},
     "output_type": "execute_result"
    }
   ],
   "source": [
    "train[['Плотность нефти', 'Нефтьм3', 'Нефтьт']][~train['Нефтьт'].isnull()].head(10)"
   ]
  },
  {
   "cell_type": "markdown",
   "metadata": {},
   "source": [
    "Среди фичей присуствует \"Дебит попутного газам3/сут\" по важности признаков он занимает лидирующее место. Среди всех признаков про газ, решено было оставить только его. Он показывал поразительную важность ~0.8."
   ]
  },
  {
   "cell_type": "markdown",
   "metadata": {},
   "source": [
    "В качестве дополнительных признаков добавляли в обучающую выборку кодирование средним значением таргета по кластерам координат устьев и пластов. Это давало плоды и на кросс валидации и на публичном лидерборде. "
   ]
  },
  {
   "cell_type": "markdown",
   "metadata": {},
   "source": [
    "### Еще таргеты"
   ]
  },
  {
   "cell_type": "markdown",
   "metadata": {},
   "source": [
    "Буквально за неделю до кончания соревнований, на МЛ тренировке в Екатеринбурге мы пришли к интересному заключению.\n",
    "Если отобразить зависимость рассчитанного ранее дебита нефти от \"Дебит попутного газам3/сут\", то мы увидим следующую картину:"
   ]
  },
  {
   "cell_type": "code",
   "execution_count": 43,
   "metadata": {},
   "outputs": [
    {
     "data": {
      "text/plain": [
       "<matplotlib.axes._subplots.AxesSubplot at 0x7f0149b782b0>"
      ]
     },
     "execution_count": 43,
     "metadata": {},
     "output_type": "execute_result"
    },
    {
     "data": {
      "image/png": "[encoded data removed]",
      "text/plain": [
       "<Figure size 432x288 with 1 Axes>"
      ]
     },
     "metadata": {
      "needs_background": "light"
     },
     "output_type": "display_data"
    }
   ],
   "source": [
    "train.plot.scatter(y='target', x='Дебит попутного газам3/сут')"
   ]
  },
  {
   "cell_type": "markdown",
   "metadata": {},
   "source": [
    "Это наталкивает на мысли сделать еще один таргет и усреднить предсказания с предсказанием производительности.\n",
    "\n",
    "Дополнительным таргетом выступает линейный коэффициент зависимости нефти от дебита газа. \n",
    "Для скважин одного куста или одного пласта предыдущий гарфик может выглядеть следующим образом:"
   ]
  },
  {
   "cell_type": "code",
   "execution_count": 53,
   "metadata": {},
   "outputs": [
    {
     "data": {
      "text/plain": [
       "<matplotlib.axes._subplots.AxesSubplot at 0x7f01495e8940>"
      ]
     },
     "execution_count": 53,
     "metadata": {},
     "output_type": "execute_result"
    },
    {
     "data": {
      "image/png": "[encoded data removed]",
      "text/plain": [
       "<Figure size 432x288 with 1 Axes>"
      ]
     },
     "metadata": {
      "needs_background": "light"
     },
     "output_type": "display_data"
    }
   ],
   "source": [
    "train[train['Куст'] == '130'].plot.scatter(y='target', x='Дебит попутного газам3/сут')"
   ]
  },
  {
   "cell_type": "markdown",
   "metadata": {},
   "source": [
    "Это значит, что имея на руках всего лишь коэффициент и значение для дебита газа можно очень точно предсказывать дебит нефти для скважины или куста скважин.\n",
    "Значение коэффициента легко найти через МНК из statsmodels."
   ]
  },
  {
   "cell_type": "markdown",
   "metadata": {},
   "source": [
    "### Не решенные проблемы\n",
    "На таких малых данных оказалось сложно проводить отбор признаков и подбирать гиперпараметры моделей. Обилие признаков только усложняло задачу.\n",
    "\n",
    "Окончательно не разобрались как использовать las файлы. \n",
    "Выделили в качестве бинарных признаков наличие колонок las файлов и посчитали статискики по колонкам(средние, максимумы).\n",
    "\n",
    "Не придумали как заполнить пропуски для тех скважин, где есть газ и газ отсутвует.\n",
    "Были идеи сделать две модели, одна делает предсказание с газом, другая без газа."
   ]
  },
  {
   "cell_type": "markdown",
   "metadata": {},
   "source": [
    "![gas](img/145512589219562993.jpg)"
   ]
  },
  {
   "cell_type": "markdown",
   "metadata": {},
   "source": [
    "Список дополнительных гипотез, которые не дали сильного прироста качества или до которых не дошли руки:\n",
    "    \n",
    "1. Сделать аналитический расчет дебита исходя из доступных признаков.\n",
    "2. Сформировать признаки путем комбинаций всех признаков друг с другом. В топ важности вылезали удивительные признаки вида: Номер бригады * Напор. Использование таких признаков привело бы к переобучению.\n",
    "3. Предсказывать дебит не только нефти, так же жидкости и воды.\n",
    "4. Найти корреляции межуд лас файлами и признаками обучающей выборки.\n",
    "5. Использовать наличие нагнетательных скважин.\n",
    "6. Использовать две модели. Одна предсказывает первый месяц, вторая коэффициент зависимости нефти от газа.\n",
    "7. Использовать факт, что со временем месторождения мельчают и размер микропор породы также уменьшается.\n",
    "8. Автоматически убирать низковариативные признаки.\n",
    "9. Некторые скважины могут закрываться ввиду из экономической нецелесообразности.\n",
    "10. Использовать данные одной задачи для решения другой."
   ]
  }
 ],
 "metadata": {
  "kernelspec": {
   "display_name": "Python 3",
   "language": "python",
   "name": "python3"
  },
  "language_info": {
   "codemirror_mode": {
    "name": "ipython",
    "version": 3
   },
   "file_extension": ".py",
   "mimetype": "text/x-python",
   "name": "python",
   "nbconvert_exporter": "python",
   "pygments_lexer": "ipython3",
   "version": "3.7.0"
  }
 },
 "nbformat": 4,
 "nbformat_minor": 2
}
